{
 "cells": [
  {
   "cell_type": "code",
   "execution_count": 21,
   "metadata": {
    "collapsed": false
   },
   "outputs": [],
   "source": [
    "import argparse\n",
    "import datetime\n",
    "import json\n",
    "import time\n",
    "import jwt\n",
    "import paho.mqtt.client as mqtt\n",
    "import json\n",
    "import random"
   ]
  },
  {
   "cell_type": "code",
   "execution_count": 7,
   "metadata": {
    "collapsed": true
   },
   "outputs": [],
   "source": [
    "def create_jwt(project_id, private_key_file, algorithm):\n",
    "  \"\"\"Create a JWT (https://jwt.io) to establish an MQTT connection.\"\"\"\n",
    "  token = {\n",
    "      'iat': datetime.datetime.utcnow(),\n",
    "      'exp': datetime.datetime.utcnow() + datetime.timedelta(minutes=60),\n",
    "      'aud': project_id\n",
    "  }\n",
    "  with open(private_key_file, 'r') as f:\n",
    "    private_key = f.read()\n",
    "  print 'Creating JWT using {} from private key file {}'.format(\n",
    "      algorithm, private_key_file)\n",
    "  return jwt.encode(token, private_key, algorithm=algorithm)"
   ]
  },
  {
   "cell_type": "code",
   "execution_count": 12,
   "metadata": {
    "collapsed": false
   },
   "outputs": [
    {
     "name": "stdout",
     "output_type": "stream",
     "text": [
      "Creating JWT using RS256 from private key file ../rsa_private.pem\n"
     ]
    }
   ],
   "source": [
    "client = mqtt.Client(\n",
    "      client_id='projects/{}/locations/{}/registries/{}/devices/{}'.format(\n",
    "          \"mlpdm-168115\", \"us-central1\", \"hemanth_test_registry\", \"hem-es256-device\"))\n",
    "client.username_pw_set(\n",
    "      username='unused',\n",
    "      password=create_jwt(\"mlpdm-168115\", \"../rsa_private.pem\",\n",
    "                          \"RS256\"))\n",
    "client.tls_set(ca_certs=\"roots.pem\")"
   ]
  },
  {
   "cell_type": "code",
   "execution_count": 14,
   "metadata": {
    "collapsed": false
   },
   "outputs": [
    {
     "data": {
      "text/plain": [
       "0"
      ]
     },
     "execution_count": 14,
     "metadata": {},
     "output_type": "execute_result"
    }
   ],
   "source": [
    "client.connect('mqtt.googleapis.com', 8883)"
   ]
  },
  {
   "cell_type": "code",
   "execution_count": 15,
   "metadata": {
    "collapsed": true
   },
   "outputs": [],
   "source": [
    "client.loop_start()"
   ]
  },
  {
   "cell_type": "code",
   "execution_count": 17,
   "metadata": {
    "collapsed": true
   },
   "outputs": [],
   "source": [
    "a = json.dumps({'temperature': 22})"
   ]
  },
  {
   "cell_type": "code",
   "execution_count": 18,
   "metadata": {
    "collapsed": false
   },
   "outputs": [
    {
     "data": {
      "text/plain": [
       "str"
      ]
     },
     "execution_count": 18,
     "metadata": {},
     "output_type": "execute_result"
    }
   ],
   "source": [
    "type(a)"
   ]
  },
  {
   "cell_type": "code",
   "execution_count": 19,
   "metadata": {
    "collapsed": false
   },
   "outputs": [
    {
     "data": {
      "text/plain": [
       "'{\"temperature\": 22}'"
      ]
     },
     "execution_count": 19,
     "metadata": {},
     "output_type": "execute_result"
    }
   ],
   "source": [
    "a"
   ]
  },
  {
   "cell_type": "code",
   "execution_count": 22,
   "metadata": {
    "collapsed": false
   },
   "outputs": [
    {
     "data": {
      "text/plain": [
       "5"
      ]
     },
     "execution_count": 22,
     "metadata": {},
     "output_type": "execute_result"
    }
   ],
   "source": [
    "random.randint(1,10)"
   ]
  },
  {
   "cell_type": "code",
   "execution_count": null,
   "metadata": {
    "collapsed": true
   },
   "outputs": [],
   "source": []
  }
 ],
 "metadata": {
  "kernelspec": {
   "display_name": "Python 2",
   "language": "python",
   "name": "python2"
  },
  "language_info": {
   "codemirror_mode": {
    "name": "ipython",
    "version": 2
   },
   "file_extension": ".py",
   "mimetype": "text/x-python",
   "name": "python",
   "nbconvert_exporter": "python",
   "pygments_lexer": "ipython2",
   "version": "2.7.9"
  }
 },
 "nbformat": 4,
 "nbformat_minor": 0
}
