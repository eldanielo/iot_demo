{
 "cells": [
  {
   "cell_type": "code",
   "execution_count": 16,
   "metadata": {
    "collapsed": true
   },
   "outputs": [],
   "source": [
    "import json\n",
    "import pandas as pd\n",
    "import math"
   ]
  },
  {
   "cell_type": "code",
   "execution_count": 4,
   "metadata": {
    "collapsed": false
   },
   "outputs": [],
   "source": [
    "df = pd.read_csv('../feature_distribution.json')"
   ]
  },
  {
   "cell_type": "code",
   "execution_count": 5,
   "metadata": {
    "collapsed": false
   },
   "outputs": [
    {
     "data": {
      "text/html": [
       "<div>\n",
       "<table border=\"1\" class=\"dataframe\">\n",
       "  <thead>\n",
       "    <tr style=\"text-align: right;\">\n",
       "      <th></th>\n",
       "      <th>{\"OpSet3_119_mean\": 95.833333333333329</th>\n",
       "      <th>\"SensorMeasure13_264_mean\": 2350.8182352941162</th>\n",
       "      <th>\"SensorMeasure14_370_std\": 101.23032619042957</th>\n",
       "      <th>\"SensorMeasure11_158_std\": 3.2072908642564291</th>\n",
       "      <th>\"SensorMeasure13_311_std\": 107.57514280562484</th>\n",
       "      <th>\"SensorMeasure16_69_std\": 0.0050016258888719474</th>\n",
       "      <th>\"SensorMeasure4_181_std\": 136.51730626576312</th>\n",
       "      <th>\"SensorMeasure2_91_mean\": 597.79624797406859</th>\n",
       "      <th>\"SensorMeasure10_437_std\": 0.14424427287213257</th>\n",
       "      <th>\"SensorMeasure21_261_std\": 6.8287694119558475</th>\n",
       "      <th>...</th>\n",
       "      <th>\"OpSet3_206_mean\": 95.060728744939269</th>\n",
       "      <th>\"SensorMeasure9_184_mean\": 8683.0764714086399</th>\n",
       "      <th>\"SensorMeasure15_46_mean\": 9.0454104151493162</th>\n",
       "      <th>\"SensorMeasure8_272_mean\": 2279.1456632653058</th>\n",
       "      <th>\"SensorMeasure17_377_std\": 32.932270704910593</th>\n",
       "      <th>\"SensorMeasure3_318_std\": 118.42759610446245</th>\n",
       "      <th>\"SensorMeasure18_527_std\": 10</th>\n",
       "      <th>\"OpSet2_394_std\": 0.38834012798061446</th>\n",
       "      <th>\"SensorMeasure21_158_mean\": 15.229254487179491</th>\n",
       "      <th>\"SensorMeasure9_132_std\": 364.38705270445024}</th>\n",
       "    </tr>\n",
       "  </thead>\n",
       "  <tbody>\n",
       "  </tbody>\n",
       "</table>\n",
       "<p>0 rows × 26016 columns</p>\n",
       "</div>"
      ],
      "text/plain": [
       "Empty DataFrame\n",
       "Columns: [{\"OpSet3_119_mean\": 95.833333333333329,  \"SensorMeasure13_264_mean\": 2350.8182352941162,  \"SensorMeasure14_370_std\": 101.23032619042957,  \"SensorMeasure11_158_std\": 3.2072908642564291,  \"SensorMeasure13_311_std\": 107.57514280562484,  \"SensorMeasure16_69_std\": 0.0050016258888719474,  \"SensorMeasure4_181_std\": 136.51730626576312,  \"SensorMeasure2_91_mean\": 597.79624797406859,  \"SensorMeasure10_437_std\": 0.14424427287213257,  \"SensorMeasure21_261_std\": 6.8287694119558475,  \"SensorMeasure11_323_mean\": 44.54795454545453,  \"SensorMeasure5_203_std\": 4.1991383180951916,  \"SensorMeasure21_249_mean\": 14.966955595667871,  \"SensorMeasure10_531_std\": 10,  \"SensorMeasure11_467_std\": 2.1312265918278812,  \"SensorMeasure18_190_mean\": 2267.9587155963304,  \"SensorMeasure8_449_std\": 29.182224212694919,  \"SensorMeasure4_482_mean\": 1276.03,  \"SensorMeasure17_27_std\": 30.49729439103114,  \"OpSet2_231_mean\": 0.44694147727272804,  \"SensorMeasure10_360_mean\": 1.1947916666666663,  \"SensorMeasure9_339_mean\": 8714.4158108108077,  \"OpSet1_105_mean\": 17.480704995836785,  \"OpSet1_397_mean\": 13.377375000000001,  \"SensorMeasure18_532_mean\": 2212.0,  \"SensorMeasure4_227_mean\": 1254.767131367292,  \"SensorMeasure18_456_std\": 194.89894817571488,  \"SensorMeasure21_238_std\": 7.0075926226721279,  \"SensorMeasure14_166_std\": 86.743369291504862,  \"SensorMeasure1_201_mean\": 483.94820702403081,  \"SensorMeasure3_415_mean\": 1492.2011764705878,  \"SensorMeasure10_97_std\": 0.14144604802461677,  \"SensorMeasure2_81_std\": 42.02647519995557,  \"OpSet3_182_std\": 12.175278526979239,  \"SensorMeasure2_333_mean\": 595.36500000000001,  \"SensorMeasure10_402_std\": 0.14808810411402595,  \"SensorMeasure12_259_std\": 166.25392457993621,  \"SensorMeasure12_283_std\": 158.56827865253206,  \"SensorMeasure19_219_std\": 4.2421457654220251,  \"SensorMeasure3_485_std\": 141.49099886565227,  \"SensorMeasure14_392_std\": 61.642791246141023,  \"OpSet3_384_std\": 14.253932901995967,  \"SensorMeasure13_280_mean\": 2347.8325443786994,  \"SensorMeasure11_104_mean\": 44.070099833610648,  \"OpSet1_16_mean\": 16.817042514124278,  \"SensorMeasure11_76_std\": 3.2727853534500126,  \"SensorMeasure7_25_mean\": 351.17955192034145,  \"SensorMeasure11_531_std\": 10,  \"SensorMeasure9_258_mean\": 8727.2250800000002,  \"SensorMeasure13_304_mean\": 2353.5325438596487,  \"SensorMeasure7_178_std\": 176.6255003720525,  \"SensorMeasure9_69_std\": 369.47557631813146,  \"SensorMeasure2_205_mean\": 596.81378217821771,  \"SensorMeasure2_440_mean\": 621.71923076923099,  \"SensorMeasure11_68_mean\": 43.986290936786048,  \"SensorMeasure6_414_mean\": 16.824444444444445,  \"SensorMeasure14_251_mean\": 8096.086088560889,  \"SensorMeasure3_530_mean\": 1358.3699999999999,  \"SensorMeasure12_77_std\": 166.403998565725,  \"SensorMeasure14_229_std\": 81.934322123365831,  \"OpSet2_390_std\": 0.35924643714308424,  \"SensorMeasure16_285_std\": 0.0050150842203353849,  \"SensorMeasure9_60_std\": 361.43886061493163,  \"SensorMeasure18_228_mean\": 2258.766304347826,  \"OpSet3_442_std\": 0.0,  \"SensorMeasure11_57_mean\": 43.919202087994044,  \"SensorMeasure21_198_std\": 6.9880853518307697,  \"SensorMeasure6_48_std\": 6.4047505380090914,  \"SensorMeasure2_185_mean\": 599.08408309455604,  \"SensorMeasure19_207_mean\": 98.638439425051359,  \"SensorMeasure4_521_mean\": 1276.105,  \"SensorMeasure15_87_mean\": 9.1003882211538407,  \"SensorMeasure21_479_std\": 5.7126559616513291,  \"SensorMeasure2_218_mean\": 595.02644705882381,  \"OpSet3_438_std\": 0.0,  \"SensorMeasure19_47_mean\": 98.330437317783819,  \"SensorMeasure4_199_std\": 136.2186112146567,  \"SensorMeasure6_154_mean\": 14.447151767151752,  \"SensorMeasure1_404_std\": 31.277750151592617,  \"SensorMeasure8_213_mean\": 2271.3235777777768,  \"SensorMeasure15_222_mean\": 9.1234269326683233,  \"SensorMeasure5_467_mean\": 12.109999999999999,  \"SensorMeasure7_460_mean\": 516.58124999999995,  \"OpSet1_533_std\": 10,  \"SensorMeasure3_405_mean\": 1533.6290909090908,  \"SensorMeasure9_37_std\": 356.09362303013376,  \"SensorMeasure21_201_mean\": 15.073115896487987,  \"SensorMeasure21_463_std\": 7.7206581196049227,  \"SensorMeasure12_2_std\": 164.06128723143115,  \"SensorMeasure14_79_mean\": 8082.8659779179725,  \"SensorMeasure14_526_mean\": 8175.0799999999999,  \"SensorMeasure5_77_std\": 4.3335572144726857,  \"OpSet1_263_mean\": 17.573994323144106,  \"SensorMeasure4_394_std\": 133.85746766368081,  \"OpSet3_186_std\": 10.779734556489901,  \"SensorMeasure21_154_mean\": 15.55806590436589,  \"OpSet1_186_mean\": 17.898561953352736,  \"SensorMeasure10_24_mean\": 1.1493176972281323,  \"SensorMeasure17_80_mean\": 360.6832543443918,  \"SensorMeasure9_403_std\": 423.76571793628148, ...]\n",
       "Index: []\n",
       "\n",
       "[0 rows x 26016 columns]"
      ]
     },
     "execution_count": 5,
     "metadata": {},
     "output_type": "execute_result"
    }
   ],
   "source": [
    "df.head()"
   ]
  },
  {
   "cell_type": "code",
   "execution_count": 13,
   "metadata": {
    "collapsed": true
   },
   "outputs": [],
   "source": [
    "def load_data():\n",
    "    ''' Takes Data from all csv files from CMAPPS dataset and loads into a dataframe'''\n",
    "\n",
    "    allFiles = [\"../data/CMAPSSData/train_FD001.txt\", \"../data/CMAPSSData/train_FD002.txt\", \"../data/CMAPSSData/train_FD003.txt\", \"../data/CMAPSSData/train_FD004.txt\", \\\n",
    "            \"../data/CMAPSSData/test_FD001.txt\", \"../data/CMAPSSData/test_FD002.txt\", \"../data/CMAPSSData/test_FD003.txt\", \"../data/CMAPSSData/test_FD004.txt\"]\n",
    "    file_suffixes = [\"_train_FD001\", \"_train_FD002\", \"_train_FD003\", \"_train_FD004\", \"_test_FD001\", \"_test_FD002\", \\\n",
    "               \"_test_FD003\", \"_test_FD004\"]\n",
    "    all_dfs = []\n",
    "    for i in xrange(len(allFiles)):\n",
    "        temp_df = pd.read_csv(allFiles[i], header=None, sep = ' ', index_col=False)\n",
    "        temp_df[0] =  temp_df[0].astype(str) + file_suffixes[i]\n",
    "        all_dfs.append(temp_df)\n",
    "\n",
    "    df = pd.concat(all_dfs, ignore_index=True)\n",
    "\n",
    "    #changing column names to make them more human readable\n",
    "    col_names = [\"unit\", \"time\", \"OpSet1\", \"OpSet2\", \"OpSet3\"]\n",
    "    for i in xrange(1,24):\n",
    "        col_names.append(\"SensorMeasure\" + str(i))\n",
    "    df.columns = col_names\n",
    "    df.drop(['SensorMeasure22', \"SensorMeasure23\"], axis=1, inplace=True)\n",
    "\n",
    "    return df"
   ]
  },
  {
   "cell_type": "code",
   "execution_count": 22,
   "metadata": {
    "collapsed": true
   },
   "outputs": [],
   "source": [
    "def generate_distribution_file(df):\n",
    "\n",
    "    #group by functions to apply on all observational column in dataframe\n",
    "    gb_functions = { 'OpSet1': ['mean', 'std'], 'OpSet2'  : ['mean', 'std'], 'OpSet3'  : ['mean', 'std'],  'SensorMeasure1': ['mean', 'count', 'std'], 'SensorMeasure2': ['mean', 'std'], 'SensorMeasure3'  : ['mean', 'std'], 'SensorMeasure4'  : ['mean', 'std'], \\\n",
    "    'SensorMeasure5'  : ['mean', 'std'], 'SensorMeasure6'  : ['mean', 'std'], 'SensorMeasure7'  : ['mean', 'std'], 'SensorMeasure8'  : ['mean', 'std'],  'SensorMeasure9'  : ['mean', 'std'], 'SensorMeasure10'  : ['mean', 'std'], 'SensorMeasure11'  : ['mean', 'std'], 'SensorMeasure12'  : ['mean', 'std'], \\\n",
    "    'SensorMeasure13'  : ['mean', 'std'], 'SensorMeasure14'  : ['mean', 'std'], 'SensorMeasure15'  : ['mean', 'std'], 'SensorMeasure16'  : ['mean', 'std'],  'SensorMeasure17'  : ['mean', 'std'], 'SensorMeasure18'  : ['mean', 'std'], 'SensorMeasure19'  : ['mean', 'std'], 'SensorMeasure20'  : ['mean', 'std'], 'SensorMeasure21'  : ['mean', 'std']}\n",
    "\n",
    "    features = df.columns[2:].tolist()\n",
    "\n",
    "    df_trends = df.groupby(['time']).agg(gb_functions)\n",
    "    with open('fd.csv', 'w') as fp:\n",
    "        feature_distribution = {}\n",
    "        for time in xrange(1, len(df_trends)):\n",
    "            for feature in features:\n",
    "                std = df_trends[feature][\"std\"][time]\n",
    "                if math.isnan(std):\n",
    "                    std = 10\n",
    "                feature_distribution[feature + \"_\" + str(time) + \"_\" + \"mean\"] = df_trends[feature][\"mean\"][time]\n",
    "                feature_distribution[feature + \"_\" + str(time) + \"_\" + \"std\"] = abs(std)\n",
    "                fp.write(feature + ',' + str(time) + ',' + str(df_trends[feature][\"mean\"][time]) + ',' + str(abs(std)) + '\\n' )\n",
    "    return feature_distribution\n",
    "    #with open(\"feature_distribution.json\", 'w') as fp:\n",
    "    #    json.dump(feature_distribution, fp)"
   ]
  },
  {
   "cell_type": "code",
   "execution_count": 23,
   "metadata": {
    "collapsed": false
   },
   "outputs": [],
   "source": [
    "df = load_data()\n",
    "fd = generate_distribution_file(df)"
   ]
  },
  {
   "cell_type": "code",
   "execution_count": null,
   "metadata": {
    "collapsed": true
   },
   "outputs": [],
   "source": []
  }
 ],
 "metadata": {
  "kernelspec": {
   "display_name": "Python 2",
   "language": "python",
   "name": "python2"
  },
  "language_info": {
   "codemirror_mode": {
    "name": "ipython",
    "version": 2
   },
   "file_extension": ".py",
   "mimetype": "text/x-python",
   "name": "python",
   "nbconvert_exporter": "python",
   "pygments_lexer": "ipython2",
   "version": "2.7.9"
  }
 },
 "nbformat": 4,
 "nbformat_minor": 0
}
