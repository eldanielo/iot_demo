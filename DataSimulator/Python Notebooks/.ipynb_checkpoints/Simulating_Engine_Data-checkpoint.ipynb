{
 "cells": [
  {
   "cell_type": "code",
   "execution_count": 1,
   "metadata": {
    "collapsed": false
   },
   "outputs": [
    {
     "name": "stdout",
     "output_type": "stream",
     "text": [
      "Populating the interactive namespace from numpy and matplotlib\n"
     ]
    }
   ],
   "source": [
    "import pandas as pd\n",
    "import numpy as np\n",
    "import scipy as sp\n",
    "import matplotlib.pyplot as plt\n",
    "%pylab inline\n",
    "import json\n",
    "import math"
   ]
  },
  {
   "cell_type": "code",
   "execution_count": 2,
   "metadata": {
    "collapsed": false
   },
   "outputs": [],
   "source": [
    "allFiles = [\"data/CMAPSSData/train_FD001.txt\", \"data/CMAPSSData/train_FD002.txt\", \"data/CMAPSSData/train_FD003.txt\", \"data/CMAPSSData/train_FD004.txt\", \\\n",
    "            \"data/CMAPSSData/test_FD001.txt\", \"data/CMAPSSData/test_FD002.txt\", \"data/CMAPSSData/test_FD003.txt\", \"data/CMAPSSData/test_FD004.txt\"]\n"
   ]
  },
  {
   "cell_type": "code",
   "execution_count": 3,
   "metadata": {
    "collapsed": false
   },
   "outputs": [],
   "source": [
    "file_suffixes = [\"_train_FD001\", \"_train_FD002\", \"_train_FD003\", \"_train_FD004\", \"_test_FD001\", \"_test_FD002\", \\\n",
    "               \"_test_FD003\", \"_test_FD004\"]"
   ]
  },
  {
   "cell_type": "code",
   "execution_count": 4,
   "metadata": {
    "collapsed": false
   },
   "outputs": [],
   "source": [
    "all_dfs = []\n",
    "for i in xrange(len(allFiles)):\n",
    "    temp_df = pd.read_csv(allFiles[i], header=None, sep = ' ', index_col=False)\n",
    "    temp_df[0] =  temp_df[0].astype(str) + file_suffixes[i]\n",
    "    all_dfs.append(temp_df)"
   ]
  },
  {
   "cell_type": "code",
   "execution_count": 5,
   "metadata": {
    "collapsed": true
   },
   "outputs": [],
   "source": [
    "df = pd.concat(all_dfs, ignore_index=True)"
   ]
  },
  {
   "cell_type": "code",
   "execution_count": 6,
   "metadata": {
    "collapsed": true
   },
   "outputs": [],
   "source": [
    "col_names = [\"unit\", \"time\", \"operational_setting_1\", \"operational_setting_2\", \"operational_setting_3\"]\n",
    "for i in xrange(1,24):\n",
    "    col_names.append(\"sensor_measurement_\" + str(i))\n",
    "df.columns = col_names\n",
    "df.drop(['sensor_measurement_22', \"sensor_measurement_23\"], axis=1, inplace=True)"
   ]
  },
  {
   "cell_type": "code",
   "execution_count": 48,
   "metadata": {
    "collapsed": false,
    "scrolled": false
   },
   "outputs": [],
   "source": [
    "feature_columns = df.columns[2:].tolist()"
   ]
  },
  {
   "cell_type": "code",
   "execution_count": 14,
   "metadata": {
    "collapsed": false
   },
   "outputs": [],
   "source": [
    "sensor_columns = []\n",
    "for i in xrange(1,22):\n",
    "    sensor_columns.append(\"sensor_measurement_\" + str(i))"
   ]
  },
  {
   "cell_type": "code",
   "execution_count": 33,
   "metadata": {
    "collapsed": false
   },
   "outputs": [
    {
     "name": "stdout",
     "output_type": "stream",
     "text": [
      "Min is 19\n",
      "Avg is 187\n",
      "Max is 543\n",
      "Std is 82\n"
     ]
    },
    {
     "data": {
      "text/plain": [
       "(array([   5.,   22.,   71.,  201.,  237.,  235.,  164.,   49.,   14.,    2.]),\n",
       " array([ -79.66455462,  -24.85686095,   29.95083271,   84.75852637,\n",
       "         139.56622003,  194.37391369,  249.18160735,  303.98930101,\n",
       "         358.79699467,  413.60468833,  468.41238199]),\n",
       " <a list of 10 Patch objects>)"
      ]
     },
     "execution_count": 33,
     "metadata": {},
     "output_type": "execute_result"
    },
    {
     "data": {
      "image/png": "[encoded data removed]",
      "text/plain": [
       "<matplotlib.figure.Figure at 0x1040b5690>"
      ]
     },
     "metadata": {},
     "output_type": "display_data"
    }
   ],
   "source": [
    "print \"Min is %d\" %min(df.groupby([\"unit\"])[\"time\"].count())\n",
    "print \"Avg is %d\" %np.mean(df.groupby([\"unit\"])[\"time\"].count())\n",
    "print \"Max is %d\" %max(df.groupby([\"unit\"])[\"time\"].count())\n",
    "print \"Std is %d\" %np.std(df.groupby([\"unit\"])[\"time\"].count())\n",
    "plt.hist(df.groupby([\"unit\"])[\"time\"].count())\n",
    "plt.hist(df.groupby([\"unit\"])[\"time\"].count())\n",
    "plt.hist([np.random.normal(187, 82) for i in xrange(1000)])"
   ]
  },
  {
   "cell_type": "code",
   "execution_count": 16,
   "metadata": {
    "collapsed": false
   },
   "outputs": [
    {
     "data": {
      "text/plain": [
       "187.3276836158192"
      ]
     },
     "execution_count": 16,
     "metadata": {},
     "output_type": "execute_result"
    }
   ],
   "source": [
    "np.mean(df.groupby([\"unit\"])[\"time\"].count())"
   ]
  },
  {
   "cell_type": "code",
   "execution_count": 17,
   "metadata": {
    "collapsed": false
   },
   "outputs": [],
   "source": [
    "gb_functions = { 'sensor_measurement_1': ['mean', 'count', 'std'], 'sensor_measurement_2': ['mean', 'std'], 'sensor_measurement_3'  : ['mean', 'std'], 'sensor_measurement_4'  : ['mean', 'std'], 'sensor_measurement_5'  : ['mean', 'std'], 'sensor_measurement_6'  : ['mean', 'std'], 'sensor_measurement_7'  : ['mean', 'std'], 'sensor_measurement_8'  : ['mean', 'std'], 'sensor_measurement_9'  : ['mean', 'std'], 'sensor_measurement_10'  : ['mean', 'std'], 'sensor_measurement_11'  : ['mean', 'std'], 'sensor_measurement_12'  : ['mean', 'std'], 'sensor_measurement_13'  : ['mean', 'std'], 'sensor_measurement_14'  : ['mean', 'std'], 'sensor_measurement_15'  : ['mean', 'std'], 'sensor_measurement_16'  : ['mean', 'std'], 'sensor_measurement_17'  : ['mean', 'std'], 'sensor_measurement_18'  : ['mean', 'std'], 'sensor_measurement_19'  : ['mean', 'std'], 'sensor_measurement_20'  : ['mean', 'std'], 'sensor_measurement_21'  : ['mean', 'std']}"
   ]
  },
  {
   "cell_type": "code",
   "execution_count": 18,
   "metadata": {
    "collapsed": false
   },
   "outputs": [
    {
     "data": {
      "text/plain": [
       "82.40412146013942"
      ]
     },
     "execution_count": 18,
     "metadata": {},
     "output_type": "execute_result"
    }
   ],
   "source": [
    "np.std(df.groupby([\"unit\"])[\"time\"].count())"
   ]
  },
  {
   "cell_type": "code",
   "execution_count": 19,
   "metadata": {
    "collapsed": false,
    "scrolled": true
   },
   "outputs": [],
   "source": [
    "df_sensor_trends = df.groupby(['time']).agg(gb_functions)"
   ]
  },
  {
   "cell_type": "code",
   "execution_count": 20,
   "metadata": {
    "collapsed": false,
    "scrolled": true
   },
   "outputs": [
    {
     "data": {
      "text/html": [
       "<div>\n",
       "<table border=\"1\" class=\"dataframe\">\n",
       "  <thead>\n",
       "    <tr>\n",
       "      <th></th>\n",
       "      <th colspan=\"2\" halign=\"left\">sensor_measurement_20</th>\n",
       "      <th colspan=\"2\" halign=\"left\">sensor_measurement_8</th>\n",
       "      <th colspan=\"2\" halign=\"left\">sensor_measurement_9</th>\n",
       "      <th colspan=\"2\" halign=\"left\">sensor_measurement_6</th>\n",
       "      <th colspan=\"2\" halign=\"left\">sensor_measurement_7</th>\n",
       "      <th>...</th>\n",
       "      <th colspan=\"2\" halign=\"left\">sensor_measurement_12</th>\n",
       "      <th colspan=\"2\" halign=\"left\">sensor_measurement_13</th>\n",
       "      <th colspan=\"2\" halign=\"left\">sensor_measurement_21</th>\n",
       "      <th colspan=\"2\" halign=\"left\">sensor_measurement_18</th>\n",
       "      <th colspan=\"2\" halign=\"left\">sensor_measurement_19</th>\n",
       "    </tr>\n",
       "    <tr>\n",
       "      <th></th>\n",
       "      <th>mean</th>\n",
       "      <th>std</th>\n",
       "      <th>mean</th>\n",
       "      <th>std</th>\n",
       "      <th>mean</th>\n",
       "      <th>std</th>\n",
       "      <th>mean</th>\n",
       "      <th>std</th>\n",
       "      <th>mean</th>\n",
       "      <th>std</th>\n",
       "      <th>...</th>\n",
       "      <th>mean</th>\n",
       "      <th>std</th>\n",
       "      <th>mean</th>\n",
       "      <th>std</th>\n",
       "      <th>mean</th>\n",
       "      <th>std</th>\n",
       "      <th>mean</th>\n",
       "      <th>std</th>\n",
       "      <th>mean</th>\n",
       "      <th>std</th>\n",
       "    </tr>\n",
       "    <tr>\n",
       "      <th>time</th>\n",
       "      <th></th>\n",
       "      <th></th>\n",
       "      <th></th>\n",
       "      <th></th>\n",
       "      <th></th>\n",
       "      <th></th>\n",
       "      <th></th>\n",
       "      <th></th>\n",
       "      <th></th>\n",
       "      <th></th>\n",
       "      <th></th>\n",
       "      <th></th>\n",
       "      <th></th>\n",
       "      <th></th>\n",
       "      <th></th>\n",
       "      <th></th>\n",
       "      <th></th>\n",
       "      <th></th>\n",
       "      <th></th>\n",
       "      <th></th>\n",
       "      <th></th>\n",
       "    </tr>\n",
       "  </thead>\n",
       "  <tbody>\n",
       "    <tr>\n",
       "      <th>1</th>\n",
       "      <td>25.964442</td>\n",
       "      <td>11.907198</td>\n",
       "      <td>2269.012980</td>\n",
       "      <td>149.600965</td>\n",
       "      <td>8663.172740</td>\n",
       "      <td>384.060208</td>\n",
       "      <td>14.447542</td>\n",
       "      <td>6.542271</td>\n",
       "      <td>359.387945</td>\n",
       "      <td>177.108739</td>\n",
       "      <td>...</td>\n",
       "      <td>338.431497</td>\n",
       "      <td>167.006184</td>\n",
       "      <td>2344.060318</td>\n",
       "      <td>117.866118</td>\n",
       "      <td>15.578247</td>\n",
       "      <td>7.141531</td>\n",
       "      <td>2269.009887</td>\n",
       "      <td>149.688472</td>\n",
       "      <td>98.158821</td>\n",
       "      <td>4.936987</td>\n",
       "    </tr>\n",
       "    <tr>\n",
       "      <th>2</th>\n",
       "      <td>26.454499</td>\n",
       "      <td>11.709667</td>\n",
       "      <td>2279.905565</td>\n",
       "      <td>139.180784</td>\n",
       "      <td>8685.759032</td>\n",
       "      <td>369.825914</td>\n",
       "      <td>14.689520</td>\n",
       "      <td>6.451360</td>\n",
       "      <td>366.790558</td>\n",
       "      <td>174.020189</td>\n",
       "      <td>...</td>\n",
       "      <td>345.421073</td>\n",
       "      <td>164.061287</td>\n",
       "      <td>2352.701052</td>\n",
       "      <td>107.095028</td>\n",
       "      <td>15.877591</td>\n",
       "      <td>7.023587</td>\n",
       "      <td>2279.913842</td>\n",
       "      <td>139.248999</td>\n",
       "      <td>98.520671</td>\n",
       "      <td>4.485452</td>\n",
       "    </tr>\n",
       "    <tr>\n",
       "      <th>3</th>\n",
       "      <td>26.421709</td>\n",
       "      <td>11.555011</td>\n",
       "      <td>2275.562133</td>\n",
       "      <td>144.229853</td>\n",
       "      <td>8678.482288</td>\n",
       "      <td>374.106628</td>\n",
       "      <td>14.681059</td>\n",
       "      <td>6.352715</td>\n",
       "      <td>365.870621</td>\n",
       "      <td>172.157797</td>\n",
       "      <td>...</td>\n",
       "      <td>344.554258</td>\n",
       "      <td>162.319269</td>\n",
       "      <td>2348.382648</td>\n",
       "      <td>112.694702</td>\n",
       "      <td>15.851298</td>\n",
       "      <td>6.929845</td>\n",
       "      <td>2275.564266</td>\n",
       "      <td>144.308582</td>\n",
       "      <td>98.339746</td>\n",
       "      <td>4.720098</td>\n",
       "    </tr>\n",
       "    <tr>\n",
       "      <th>4</th>\n",
       "      <td>25.767465</td>\n",
       "      <td>12.118392</td>\n",
       "      <td>2276.405763</td>\n",
       "      <td>137.846731</td>\n",
       "      <td>8668.644138</td>\n",
       "      <td>374.957412</td>\n",
       "      <td>14.302274</td>\n",
       "      <td>6.691788</td>\n",
       "      <td>357.046017</td>\n",
       "      <td>179.581987</td>\n",
       "      <td>...</td>\n",
       "      <td>336.240311</td>\n",
       "      <td>169.297373</td>\n",
       "      <td>2353.969266</td>\n",
       "      <td>105.348487</td>\n",
       "      <td>15.456499</td>\n",
       "      <td>7.267511</td>\n",
       "      <td>2276.413136</td>\n",
       "      <td>137.913481</td>\n",
       "      <td>98.573884</td>\n",
       "      <td>4.412653</td>\n",
       "    </tr>\n",
       "    <tr>\n",
       "      <th>5</th>\n",
       "      <td>26.356116</td>\n",
       "      <td>11.740370</td>\n",
       "      <td>2271.610953</td>\n",
       "      <td>149.654787</td>\n",
       "      <td>8674.248347</td>\n",
       "      <td>381.343759</td>\n",
       "      <td>14.662712</td>\n",
       "      <td>6.439254</td>\n",
       "      <td>365.036236</td>\n",
       "      <td>174.755805</td>\n",
       "      <td>...</td>\n",
       "      <td>343.769852</td>\n",
       "      <td>164.770904</td>\n",
       "      <td>2344.062444</td>\n",
       "      <td>117.873556</td>\n",
       "      <td>15.815161</td>\n",
       "      <td>7.041417</td>\n",
       "      <td>2271.607345</td>\n",
       "      <td>149.738631</td>\n",
       "      <td>98.158821</td>\n",
       "      <td>4.936987</td>\n",
       "    </tr>\n",
       "  </tbody>\n",
       "</table>\n",
       "<p>5 rows × 43 columns</p>\n",
       "</div>"
      ],
      "text/plain": [
       "     sensor_measurement_20            sensor_measurement_8              \\\n",
       "                      mean        std                 mean         std   \n",
       "time                                                                     \n",
       "1                25.964442  11.907198          2269.012980  149.600965   \n",
       "2                26.454499  11.709667          2279.905565  139.180784   \n",
       "3                26.421709  11.555011          2275.562133  144.229853   \n",
       "4                25.767465  12.118392          2276.405763  137.846731   \n",
       "5                26.356116  11.740370          2271.610953  149.654787   \n",
       "\n",
       "     sensor_measurement_9             sensor_measurement_6            \\\n",
       "                     mean         std                 mean       std   \n",
       "time                                                                   \n",
       "1             8663.172740  384.060208            14.447542  6.542271   \n",
       "2             8685.759032  369.825914            14.689520  6.451360   \n",
       "3             8678.482288  374.106628            14.681059  6.352715   \n",
       "4             8668.644138  374.957412            14.302274  6.691788   \n",
       "5             8674.248347  381.343759            14.662712  6.439254   \n",
       "\n",
       "     sensor_measurement_7                ...    sensor_measurement_12  \\\n",
       "                     mean         std    ...                     mean   \n",
       "time                                     ...                            \n",
       "1              359.387945  177.108739    ...               338.431497   \n",
       "2              366.790558  174.020189    ...               345.421073   \n",
       "3              365.870621  172.157797    ...               344.554258   \n",
       "4              357.046017  179.581987    ...               336.240311   \n",
       "5              365.036236  174.755805    ...               343.769852   \n",
       "\n",
       "                 sensor_measurement_13             sensor_measurement_21  \\\n",
       "             std                  mean         std                  mean   \n",
       "time                                                                       \n",
       "1     167.006184           2344.060318  117.866118             15.578247   \n",
       "2     164.061287           2352.701052  107.095028             15.877591   \n",
       "3     162.319269           2348.382648  112.694702             15.851298   \n",
       "4     169.297373           2353.969266  105.348487             15.456499   \n",
       "5     164.770904           2344.062444  117.873556             15.815161   \n",
       "\n",
       "               sensor_measurement_18             sensor_measurement_19  \\\n",
       "           std                  mean         std                  mean   \n",
       "time                                                                     \n",
       "1     7.141531           2269.009887  149.688472             98.158821   \n",
       "2     7.023587           2279.913842  139.248999             98.520671   \n",
       "3     6.929845           2275.564266  144.308582             98.339746   \n",
       "4     7.267511           2276.413136  137.913481             98.573884   \n",
       "5     7.041417           2271.607345  149.738631             98.158821   \n",
       "\n",
       "                \n",
       "           std  \n",
       "time            \n",
       "1     4.936987  \n",
       "2     4.485452  \n",
       "3     4.720098  \n",
       "4     4.412653  \n",
       "5     4.936987  \n",
       "\n",
       "[5 rows x 43 columns]"
      ]
     },
     "execution_count": 20,
     "metadata": {},
     "output_type": "execute_result"
    }
   ],
   "source": [
    "df_sensor_trends.head()"
   ]
  },
  {
   "cell_type": "code",
   "execution_count": 45,
   "metadata": {
    "collapsed": false,
    "scrolled": true
   },
   "outputs": [
    {
     "data": {
      "text/plain": [
       "time\n",
       "401    22\n",
       "402    22\n",
       "403    22\n",
       "404    22\n",
       "405    22\n",
       "406    21\n",
       "407    19\n",
       "408    19\n",
       "409    19\n",
       "410    18\n",
       "411    18\n",
       "412    18\n",
       "413    18\n",
       "414    18\n",
       "415    17\n",
       "416    17\n",
       "417    17\n",
       "418    17\n",
       "419    16\n",
       "420    16\n",
       "421    16\n",
       "422    16\n",
       "423    16\n",
       "424    16\n",
       "425    15\n",
       "426    15\n",
       "427    15\n",
       "428    15\n",
       "429    15\n",
       "430    15\n",
       "       ..\n",
       "514     2\n",
       "515     2\n",
       "516     2\n",
       "517     2\n",
       "518     2\n",
       "519     2\n",
       "520     2\n",
       "521     2\n",
       "522     2\n",
       "523     2\n",
       "524     2\n",
       "525     2\n",
       "526     1\n",
       "527     1\n",
       "528     1\n",
       "529     1\n",
       "530     1\n",
       "531     1\n",
       "532     1\n",
       "533     1\n",
       "534     1\n",
       "535     1\n",
       "536     1\n",
       "537     1\n",
       "538     1\n",
       "539     1\n",
       "540     1\n",
       "541     1\n",
       "542     1\n",
       "543     1\n",
       "Name: count, dtype: int64"
      ]
     },
     "execution_count": 45,
     "metadata": {},
     "output_type": "execute_result"
    }
   ],
   "source": [
    "df_sensor_trends.oper"
   ]
  },
  {
   "cell_type": "code",
   "execution_count": 41,
   "metadata": {
    "collapsed": false
   },
   "outputs": [
    {
     "data": {
      "text/plain": [
       "[<matplotlib.lines.Line2D at 0x11d33a810>]"
      ]
     },
     "execution_count": 41,
     "metadata": {},
     "output_type": "execute_result"
    },
    {
     "data": {
      "image/png": "[encoded data removed]",
      "text/plain": [
       "<matplotlib.figure.Figure at 0x11d378950>"
      ]
     },
     "metadata": {},
     "output_type": "display_data"
    }
   ],
   "source": [
    "plt.plot(range(543), df_sensor_trends.sensor_measurement_1[\"count\"])"
   ]
  },
  {
   "cell_type": "markdown",
   "metadata": {},
   "source": [
    "#### info we need to send to IOT core is machine id, time, sensor values"
   ]
  },
  {
   "cell_type": "code",
   "execution_count": 18,
   "metadata": {
    "collapsed": true
   },
   "outputs": [],
   "source": [
    "std_time = np.std(df.groupby([\"unit\"])[\"time\"].count())\n",
    "mean_time = np.mean(df.groupby([\"unit\"])[\"time\"].count())\n",
    "max_time = max(df.groupby([\"unit\"])[\"time\"].count())"
   ]
  },
  {
   "cell_type": "code",
   "execution_count": 19,
   "metadata": {
    "collapsed": false
   },
   "outputs": [],
   "source": [
    "machine_times = []\n",
    "machine_ids = []\n",
    "for i in xrange(100):\n",
    "    machine_times.append(np.random.normal(mean_time, std_time))\n",
    "    machine_ids.append(i)\n",
    "#df_machines = pd.DataFrame(machine_times)"
   ]
  },
  {
   "cell_type": "code",
   "execution_count": 20,
   "metadata": {
    "collapsed": false
   },
   "outputs": [],
   "source": [
    "df_machines = pd.DataFrame({'machine_time': machine_times, 'machine_id': machine_ids})"
   ]
  },
  {
   "cell_type": "code",
   "execution_count": 21,
   "metadata": {
    "collapsed": true
   },
   "outputs": [],
   "source": [
    "df_time = df_sensor_trends.loc[df.index==1]"
   ]
  },
  {
   "cell_type": "code",
   "execution_count": 47,
   "metadata": {
    "collapsed": false
   },
   "outputs": [
    {
     "data": {
      "text/plain": [
       "['sensor_measurement_1',\n",
       " 'sensor_measurement_2',\n",
       " 'sensor_measurement_3',\n",
       " 'sensor_measurement_4',\n",
       " 'sensor_measurement_5',\n",
       " 'sensor_measurement_6',\n",
       " 'sensor_measurement_7',\n",
       " 'sensor_measurement_8',\n",
       " 'sensor_measurement_9',\n",
       " 'sensor_measurement_10',\n",
       " 'sensor_measurement_11',\n",
       " 'sensor_measurement_12',\n",
       " 'sensor_measurement_13',\n",
       " 'sensor_measurement_14',\n",
       " 'sensor_measurement_15',\n",
       " 'sensor_measurement_16',\n",
       " 'sensor_measurement_17',\n",
       " 'sensor_measurement_18',\n",
       " 'sensor_measurement_19',\n",
       " 'sensor_measurement_20',\n",
       " 'sensor_measurement_21']"
      ]
     },
     "execution_count": 47,
     "metadata": {},
     "output_type": "execute_result"
    }
   ],
   "source": [
    "sensor_columns"
   ]
  },
  {
   "cell_type": "code",
   "execution_count": 40,
   "metadata": {
    "collapsed": false
   },
   "outputs": [],
   "source": [
    "sensor_distribution = {}\n",
    "for time in xrange(1, len(df_sensor_trends)):\n",
    "    for sensor in sensor_columns:\n",
    "        std = df_sensor_trends[sensor][\"std\"][time]\n",
    "        if math.isnan(std):\n",
    "            std = 0.001\n",
    "        sensor_distribution[sensor + \"_\" + str(time) + \"_\" + \"mean\"] = df_sensor_trends[sensor][\"mean\"][time]\n",
    "        sensor_distribution[sensor + \"_\" + str(time) + \"_\" + \"std\"] = df_sensor_trends[sensor][\"std\"][time]\n",
    "with open(\"sensor_distribution.json\", 'w') as fp:\n",
    "    json.dump(sensor_distribution, fp)"
   ]
  },
  {
   "cell_type": "code",
   "execution_count": 49,
   "metadata": {
    "collapsed": false
   },
   "outputs": [],
   "source": [
    "with open(\"sensor_distribution.json\") as fp:\n",
    "    data = fp.read()\n",
    "    text = data.decode('ascii', 'ignore')"
   ]
  },
  {
   "cell_type": "code",
   "execution_count": 51,
   "metadata": {
    "collapsed": false
   },
   "outputs": [],
   "source": [
    "s = json.loads(text)"
   ]
  },
  {
   "cell_type": "code",
   "execution_count": 32,
   "metadata": {
    "collapsed": false
   },
   "outputs": [
    {
     "data": {
      "text/plain": [
       "12.000037082591023"
      ]
     },
     "execution_count": 32,
     "metadata": {},
     "output_type": "execute_result"
    }
   ],
   "source": [
    "np.random.normal(12, .0001)"
   ]
  },
  {
   "cell_type": "code",
   "execution_count": 50,
   "metadata": {
    "collapsed": false
   },
   "outputs": [],
   "source": [
    "g = lambda x: x**2"
   ]
  },
  {
   "cell_type": "code",
   "execution_count": 51,
   "metadata": {
    "collapsed": false
   },
   "outputs": [
    {
     "data": {
      "text/plain": [
       "25"
      ]
     },
     "execution_count": 51,
     "metadata": {},
     "output_type": "execute_result"
    }
   ],
   "source": [
    "g(5)"
   ]
  },
  {
   "cell_type": "code",
   "execution_count": null,
   "metadata": {
    "collapsed": true
   },
   "outputs": [],
   "source": []
  }
 ],
 "metadata": {
  "kernelspec": {
   "display_name": "Python 2",
   "language": "python",
   "name": "python2"
  },
  "language_info": {
   "codemirror_mode": {
    "name": "ipython",
    "version": 2
   },
   "file_extension": ".py",
   "mimetype": "text/x-python",
   "name": "python",
   "nbconvert_exporter": "python",
   "pygments_lexer": "ipython2",
   "version": "2.7.9"
  }
 },
 "nbformat": 4,
 "nbformat_minor": 0
}
